{
 "cells": [
  {
   "cell_type": "code",
   "execution_count": null,
   "id": "7a802d7e-4549-41b6-b815-4212dca83995",
   "metadata": {},
   "outputs": [],
   "source": [
    "import scanpy as sc\n",
    "import pandas as pd\n",
    "import numpy as np\n",
    "import matplotlib.pyplot as plt"
   ]
  },
  {
   "cell_type": "markdown",
   "id": "30f79f47-a697-4786-a125-f288eba9b67e",
   "metadata": {},
   "source": [
    "# the final STAG AML data after all cleaning"
   ]
  },
  {
   "cell_type": "code",
   "execution_count": null,
   "id": "15b4f064-6caa-4c54-a037-619a74830f98",
   "metadata": {},
   "outputs": [],
   "source": [
    "adata = sc.read(\"STAG_AML_final.h5ad\")"
   ]
  },
  {
   "cell_type": "code",
   "execution_count": null,
   "id": "6ebfe98d-2c55-4070-b975-f7dac9caff28",
   "metadata": {},
   "outputs": [],
   "source": [
    "plt.rcParams[\"figure.figsize\"] = (10, 10)\n",
    "sc.pl.umap(\n",
    "    adata,\n",
    "    color=[\"leiden\"],\n",
    "    s=50,\n",
    "    frameon=False,\n",
    "    legend_loc=\"on data\",\n",
    "    legend_fontsize=20,\n",
    "    legend_fontoutline=4,\n",
    ")"
   ]
  },
  {
   "cell_type": "markdown",
   "id": "30f25094-a6c4-4ad8-a1dc-f1441d727b89",
   "metadata": {},
   "source": [
    "# do DE on leiden clusters"
   ]
  },
  {
   "cell_type": "code",
   "execution_count": null,
   "id": "f485f71b-7ba4-4380-a472-ae19e05cfa88",
   "metadata": {},
   "outputs": [],
   "source": [
    "adata.uns[\"log1p\"][\"base\"] = None\n",
    "sc.tl.rank_genes_groups(adata, \"leiden\", method=\"wilcoxon\")"
   ]
  },
  {
   "cell_type": "code",
   "execution_count": null,
   "id": "c65861a6-4fc0-47ad-90b0-dba7eba3bad0",
   "metadata": {},
   "outputs": [],
   "source": [
    "result = adata.uns[\"rank_genes_groups\"]\n",
    "groups = result[\"names\"].dtype.names\n",
    "deg = pd.DataFrame(\n",
    "    {\n",
    "        group + \"_\" + key[:4]: result[key][group]\n",
    "        for group in groups\n",
    "        for key in [\"names\", \"pvals_adj\", \"logfoldchanges\"]\n",
    "    }\n",
    ")"
   ]
  },
  {
   "cell_type": "code",
   "execution_count": null,
   "id": "dd3e1d1a-ac9f-4845-a507-54968d14b893",
   "metadata": {},
   "outputs": [],
   "source": [
    "i = 3\n",
    "deg_sub = deg[[f\"{i}_name\", f\"{i}_pval\", f\"{i}_logf\"]].copy()\n",
    "deg_sub[\"logpval_mult_logf\"] = -np.log10(deg_sub[f\"{i}_pval\"] + 10 ** (-300)) * np.abs(\n",
    "    deg_sub[f\"{i}_logf\"]\n",
    ")\n",
    "\n",
    "deg_sub = deg_sub[\n",
    "    (deg_sub[f\"{i}_pval\"] < 0.001) & (deg_sub[f\"{i}_logf\"] > 1.2)\n",
    "].sort_values(by=\"logpval_mult_logf\", ascending=False)\n",
    "deg_sub.head(40)"
   ]
  },
  {
   "cell_type": "code",
   "execution_count": null,
   "id": "28e1973c-96c4-48e0-b54a-18fbce13e2fa",
   "metadata": {},
   "outputs": [],
   "source": [
    "plt.rcParams[\"figure.figsize\"] = (10, 10)\n",
    "sc.pl.umap(\n",
    "    adata,\n",
    "    color=[\"DLK1\", \"CXCL2\"],\n",
    "    s=50,\n",
    "    frameon=False,\n",
    "    legend_loc=\"on data\",\n",
    "    legend_fontsize=20,\n",
    "    legend_fontoutline=4,\n",
    ")"
   ]
  },
  {
   "cell_type": "code",
   "execution_count": null,
   "id": "0a517e74-068d-4fc4-8acc-2a2272280bb1",
   "metadata": {},
   "outputs": [],
   "source": [
    "# print(deg_sub[deg_sub.columns[0]].tolist())"
   ]
  },
  {
   "cell_type": "markdown",
   "id": "3e579a5e-d798-44e5-81c0-b3d17e7a0da4",
   "metadata": {},
   "source": [
    "# name leiden clusters based on DEGs"
   ]
  },
  {
   "cell_type": "code",
   "execution_count": null,
   "id": "3c80e64b-b5ce-4a7e-9d71-adc1bf771c44",
   "metadata": {},
   "outputs": [],
   "source": [
    "leiden_cell = {\n",
    "    \"0\": \"HSC\",\n",
    "    \"1\": \"Proliferating\",\n",
    "    \"2\": \"GMP\",\n",
    "    \"3\": \"GMP\",\n",
    "    \"4\": \"HSC\",\n",
    "    \"5\": \"CD14+CD16+ Mono.\",\n",
    "    \"6\": \"Early monocytes\",\n",
    "    \"7\": \"Naive CD4/CD8 T cell\",\n",
    "    \"8\": \"Neutrophil\",\n",
    "    \"9\": \"HSC\",\n",
    "    \"10\": \"Neutrophil\",\n",
    "    \"11\": \"NK/Eff./Mem. T cell\",\n",
    "    \"12\": \"CD16 Mono.\",\n",
    "    \"13\": \"MEP\",\n",
    "    \"14\": \"Erythrocytes\",\n",
    "    \"15\": \"Proliferating\",\n",
    "}"
   ]
  },
  {
   "cell_type": "code",
   "execution_count": null,
   "id": "3c07ad27-8db7-42d7-8913-0d2a2c3d098c",
   "metadata": {},
   "outputs": [],
   "source": [
    "adata.obs[\"cell_type\"] = adata.obs.leiden.apply(lambda x: leiden_cell[x])"
   ]
  },
  {
   "cell_type": "code",
   "execution_count": null,
   "id": "6c81e2d4-ab3f-424e-8054-d48a6b571acf",
   "metadata": {},
   "outputs": [],
   "source": [
    "plt.rcParams[\"figure.figsize\"] = (10, 10)\n",
    "sc.pl.umap(\n",
    "    adata,\n",
    "    color=[\"cell_type\"],\n",
    "    s=50,\n",
    "    frameon=False,\n",
    "    legend_loc=\"on data\",\n",
    "    legend_fontsize=20,\n",
    "    legend_fontoutline=4,\n",
    ")"
   ]
  },
  {
   "cell_type": "markdown",
   "id": "5116d071-0df1-4956-8745-4df47f132037",
   "metadata": {},
   "source": [
    "# do DE on cell_type clusters"
   ]
  },
  {
   "cell_type": "code",
   "execution_count": null,
   "id": "d8a0a43a-3eb4-49c5-b861-3e4166932cc3",
   "metadata": {},
   "outputs": [],
   "source": [
    "adata.uns[\"log1p\"][\"base\"] = None\n",
    "sc.tl.rank_genes_groups(adata, \"cell_type\", method=\"wilcoxon\", key_added='cell_type_DEGs')"
   ]
  },
  {
   "cell_type": "code",
   "execution_count": null,
   "id": "c23976c7-25f9-4284-9ffd-b3ad8bcc7b11",
   "metadata": {},
   "outputs": [],
   "source": [
    "result = adata.uns[\"cell_type_DEGs\"]\n",
    "groups = result[\"names\"].dtype.names\n",
    "deg = pd.DataFrame(\n",
    "    {\n",
    "        group + \"_\" + key[:4]: result[key][group]\n",
    "        for group in groups\n",
    "        for key in [\"names\", \"pvals_adj\", \"logfoldchanges\"]\n",
    "    }\n",
    ")"
   ]
  },
  {
   "cell_type": "code",
   "execution_count": null,
   "id": "4357ccfd-4390-4bd3-b65e-ff85cfe8a9b6",
   "metadata": {},
   "outputs": [],
   "source": [
    "cell_types = adata.obs.cell_type.cat.categories"
   ]
  },
  {
   "cell_type": "code",
   "execution_count": null,
   "id": "c67970e3-bf65-4b1a-ae46-9ac9c2f07929",
   "metadata": {},
   "outputs": [],
   "source": [
    "cell_types"
   ]
  },
  {
   "cell_type": "markdown",
   "id": "b569e8d2-ab7f-40bd-bd79-a1e78fa75287",
   "metadata": {},
   "source": [
    "# aggregate all cell_type DEG in one dictionary"
   ]
  },
  {
   "cell_type": "code",
   "execution_count": null,
   "id": "e2412e14-74d4-4075-ba34-77374e00e305",
   "metadata": {},
   "outputs": [],
   "source": [
    "ALL_DEGs = {}\n",
    "for i in range(len(cell_types)):\n",
    "    i = cell_types[i]\n",
    "    deg_sub = deg[[f\"{i}_name\", f\"{i}_pval\", f\"{i}_logf\"]].copy()\n",
    "    deg_sub[\"logpval_mult_logf\"] = -np.log10(deg_sub[f\"{i}_pval\"] + 10 ** (-300)) * np.abs(\n",
    "        deg_sub[f\"{i}_logf\"]\n",
    "    )\n",
    "\n",
    "    deg_sub = deg_sub[\n",
    "        (deg_sub[f\"{i}_pval\"] < 0.0001) & (deg_sub[f\"{i}_logf\"] > 2.5)\n",
    "    ].sort_values(by=f\"{i}_logf\", ascending=False)\n",
    "    ALL_DEGs[i] = deg_sub.head(40)"
   ]
  },
  {
   "cell_type": "code",
   "execution_count": null,
   "id": "a56079c9-8671-408e-a58e-ababb551ebae",
   "metadata": {},
   "outputs": [],
   "source": [
    "deg_sub = ALL_DEGs[cell_types[1]]\n",
    "genes = deg_sub[deg_sub.columns[0]].tolist()"
   ]
  },
  {
   "cell_type": "markdown",
   "id": "514beeae-a0b2-4a00-86db-2e79d58e19d7",
   "metadata": {},
   "source": [
    "# plot tops DEGs from the entire AML dataset on top of our dataset"
   ]
  },
  {
   "cell_type": "code",
   "execution_count": null,
   "id": "923af4be-a13d-4db8-8291-9bcddf5ce343",
   "metadata": {},
   "outputs": [],
   "source": [
    "deg10 = pd.read_csv('../all_csvs/LMPP_DEG.csv',index_col=0)"
   ]
  },
  {
   "cell_type": "code",
   "execution_count": null,
   "id": "b7b176f2-149e-4ddf-be70-66cf36754cc9",
   "metadata": {},
   "outputs": [],
   "source": [
    "deg10 = pd.read_csv('../all_csvs/GMP_DEG.csv',index_col=0)"
   ]
  },
  {
   "cell_type": "code",
   "execution_count": null,
   "id": "624f1cdc-915b-4af6-9bde-0530faaf670a",
   "metadata": {},
   "outputs": [],
   "source": [
    "deg10 = pd.read_csv('../all_csvs/Prog_Mk_DEG.csv',index_col=0)"
   ]
  },
  {
   "cell_type": "code",
   "execution_count": null,
   "id": "5865ffe4-d1ca-4555-bc59-ac4df5e3cb9a",
   "metadata": {},
   "outputs": [],
   "source": [
    "genes = adata.var[adata.var.index.isin(deg10.index[:20])].index"
   ]
  },
  {
   "cell_type": "code",
   "execution_count": null,
   "id": "9dadbd27-aef1-45a8-8d7c-79a090d8be9a",
   "metadata": {},
   "outputs": [],
   "source": [
    "plt.rcParams[\"figure.figsize\"] = (4, 4)\n",
    "sc.pl.umap(\n",
    "    adata,\n",
    "    color=genes,\n",
    "    s=20,\n",
    "    frameon=False,\n",
    "    legend_loc=\"on data\",\n",
    "    legend_fontsize=20,\n",
    "    legend_fontoutline=4,\n",
    ")"
   ]
  },
  {
   "cell_type": "markdown",
   "id": "b818b875-a2fc-437e-91fb-2790dc0b16b9",
   "metadata": {},
   "source": [
    "# find which clusters have genes of interest as DEG in the entire AML dataset"
   ]
  },
  {
   "cell_type": "code",
   "execution_count": null,
   "id": "cdb30f46-251f-4cc8-b1c9-6daae86e21dd",
   "metadata": {},
   "outputs": [],
   "source": [
    "deg10 = pd.read_csv('../all_csvs/AML_predicted_celltype_DEG.csv',index_col=0)"
   ]
  },
  {
   "cell_type": "code",
   "execution_count": null,
   "id": "611465a5-c3cd-4ed4-941d-73685851c39c",
   "metadata": {},
   "outputs": [],
   "source": [
    "genes = deg_sub[deg_sub.columns[0]].tolist()[:40]"
   ]
  },
  {
   "cell_type": "code",
   "execution_count": null,
   "id": "905504fe-02f4-4207-8be5-caa0333d18ce",
   "metadata": {},
   "outputs": [],
   "source": [
    "for gene in genes:# deg_sub[deg_sub.columns[0]].tolist()[:40]:\n",
    "    result = deg10.eq(gene).stack()\n",
    "    print(15*'-',gene,22*'-')#,result[result].shape[0])\n",
    "    if result[result].shape[0]>0:\n",
    "        for i in range(3):\n",
    "            row_index, column_index = result[result].index[i]\n",
    "            print(deg10.loc[row_index,[column_index.split('_name')[0]+'_pval',column_index.split('_name')[0]+'_logf']])\n",
    "            print(30*'-')"
   ]
  }
 ],
 "metadata": {
  "kernelspec": {
   "display_name": "Python 3 (ipykernel)",
   "language": "python",
   "name": "python3"
  },
  "language_info": {
   "codemirror_mode": {
    "name": "ipython",
    "version": 3
   },
   "file_extension": ".py",
   "mimetype": "text/x-python",
   "name": "python",
   "nbconvert_exporter": "python",
   "pygments_lexer": "ipython3",
   "version": "3.7.10"
  }
 },
 "nbformat": 4,
 "nbformat_minor": 5
}
