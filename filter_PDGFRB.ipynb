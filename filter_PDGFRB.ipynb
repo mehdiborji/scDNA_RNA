{
 "cells": [
  {
   "cell_type": "code",
   "execution_count": null,
   "id": "c4fa34ca-5847-4d3c-a54a-ae1b78474940",
   "metadata": {},
   "outputs": [],
   "source": [
    "import pandas as pd\n",
    "from anndata import AnnData\n",
    "from scipy.sparse import csr_matrix\n",
    "import scanpy as sc\n",
    "import numpy as np\n",
    "import matplotlib.pyplot as plt"
   ]
  },
  {
   "cell_type": "markdown",
   "id": "a74fd1f1-cb5a-4e30-bb2c-6b530506ae96",
   "metadata": {},
   "source": [
    "## take PDGFRB+ barcodes from initial run and mark them"
   ]
  },
  {
   "cell_type": "code",
   "execution_count": null,
   "id": "381039bb-b203-41ed-a24c-9c4be12716a0",
   "metadata": {},
   "outputs": [],
   "source": [
    "adata = sc.read('/n/scratch/users/m/meb521/hyprseq/AML1026_merged_rna_all_clustered.h5ad') # 30k: all barcodes with 30 genes"
   ]
  },
  {
   "cell_type": "code",
   "execution_count": null,
   "id": "2d6f5656-697b-4ef0-ac0e-9793befb0099",
   "metadata": {},
   "outputs": [],
   "source": [
    "plt.rcParams['figure.figsize'] = (6, 6)\n",
    "sc.pl.umap(adata, color=['PDGFRB','leiden'],s=10,show=False,frameon=False,legend_loc='on data');"
   ]
  },
  {
   "cell_type": "code",
   "execution_count": null,
   "id": "cbdce589-f0d7-4f61-8612-2ea13b38d7fa",
   "metadata": {},
   "outputs": [],
   "source": [
    "#adata = adata[~adata.obs.leiden.isin(['7','4','14','0','1'])].copy() # will remove clogged\n",
    "#adata = sc.read('/n/scratch/users/m/meb521/hyprseq/AML1026_merged_rna_all_clustered_withvars_filtered.h5ad') # 16k: clogged filterred"
   ]
  },
  {
   "cell_type": "code",
   "execution_count": null,
   "id": "414abc32-2483-4611-adc9-459b0086a4a4",
   "metadata": {},
   "outputs": [],
   "source": [
    "PDGFRB = adata[adata.obs.leiden.isin(['10','12'])].obs.index"
   ]
  },
  {
   "cell_type": "markdown",
   "id": "245ec4fc-b4b7-42d3-93af-35eac2621133",
   "metadata": {},
   "source": [
    "## load clean data and remove"
   ]
  },
  {
   "cell_type": "code",
   "execution_count": null,
   "id": "d85dc53e-7de3-4923-a73b-6386787e603e",
   "metadata": {},
   "outputs": [],
   "source": [
    "adata = sc.read('STAG_AML_scrublet_clustered.h5ad')"
   ]
  },
  {
   "cell_type": "code",
   "execution_count": null,
   "id": "6d5ba419-55d1-4a6d-a422-b93e78a62386",
   "metadata": {},
   "outputs": [],
   "source": [
    "plt.rcParams['figure.figsize'] = (6, 6)\n",
    "sc.pl.umap(adata, color=['PDGFRB','leiden'],s=10,show=False,frameon=False,legend_loc='on data');"
   ]
  },
  {
   "cell_type": "code",
   "execution_count": null,
   "id": "a9b01b89-7545-4302-b648-78c8714875e4",
   "metadata": {},
   "outputs": [],
   "source": [
    "## take PDGFRB+ barcodes from initial run and mark them\n",
    "# in doublet-removed, clogged remove, DNA-negative removed data"
   ]
  },
  {
   "cell_type": "code",
   "execution_count": null,
   "id": "fa71e3b8-ed14-4a7e-a7cf-3ee59d1c8503",
   "metadata": {},
   "outputs": [],
   "source": [
    "adata.obs['weird_PDGFRB'] = adata.obs.index.isin(PDGFRB)*1"
   ]
  },
  {
   "cell_type": "code",
   "execution_count": null,
   "id": "385ae7d5-a19a-49c4-9670-63d64969e9fe",
   "metadata": {},
   "outputs": [],
   "source": [
    "adata.obs['weird_PDGFRB'] = adata.obs['weird_PDGFRB'].astype('category')"
   ]
  },
  {
   "cell_type": "code",
   "execution_count": null,
   "id": "7d871e72-48e6-45c5-96bf-e82c0f9a488c",
   "metadata": {},
   "outputs": [],
   "source": [
    "plt.rcParams['figure.figsize'] = (6, 6)\n",
    "sc.pl.umap(adata, color=['weird_PDGFRB','leiden'],s=10,show=False,frameon=False,legend_loc='on data')"
   ]
  },
  {
   "cell_type": "code",
   "execution_count": null,
   "id": "51b5516f-0806-4d06-a737-63fc4cd70a19",
   "metadata": {},
   "outputs": [],
   "source": [
    "#take clusters '9','5','16' from new clustering and remove them\n",
    "adata = adata[~adata.obs.leiden.isin(['9','5','16'])].copy()"
   ]
  },
  {
   "cell_type": "code",
   "execution_count": null,
   "id": "09e7cb4b-adb7-4d51-9e95-aa85ec8094ef",
   "metadata": {},
   "outputs": [],
   "source": [
    "#remove weird_PDGFRB marked barcodes which still remain after removal of above clusters\n",
    "adata = adata[adata.obs.weird_PDGFRB!=1].copy()"
   ]
  },
  {
   "cell_type": "code",
   "execution_count": null,
   "id": "a42f8903-51bf-43a8-bd6f-c45c1d5ca248",
   "metadata": {},
   "outputs": [],
   "source": [
    "adata"
   ]
  },
  {
   "cell_type": "markdown",
   "id": "a1e19a7d-86d2-47b3-9be5-61ed54dd1475",
   "metadata": {},
   "source": [
    "## run new clustering"
   ]
  },
  {
   "cell_type": "code",
   "execution_count": null,
   "id": "65cc1f33-4402-46d6-81c4-fb51e52b2d68",
   "metadata": {},
   "outputs": [],
   "source": [
    "sc.pp.neighbors(adata, n_neighbors=15, n_pcs=50) #n_neighbors=8, n_pcs=40)"
   ]
  },
  {
   "cell_type": "code",
   "execution_count": null,
   "id": "98a24661-c7a0-4c59-b51d-51eda2617f4d",
   "metadata": {},
   "outputs": [],
   "source": [
    "sc.tl.umap(adata, min_dist=1)"
   ]
  },
  {
   "cell_type": "code",
   "execution_count": null,
   "id": "c4207c7b-790f-4317-bf99-9843efcd0f48",
   "metadata": {},
   "outputs": [],
   "source": [
    "sc.tl.leiden(adata, resolution=1) #resolution=.9)"
   ]
  },
  {
   "cell_type": "code",
   "execution_count": null,
   "id": "2d40dbe3-aa51-4609-9c39-3e03babb8486",
   "metadata": {},
   "outputs": [],
   "source": [
    "plt.rcParams['figure.figsize'] = (6, 6)\n",
    "sc.pl.umap(adata, color=['leiden','doublet_scores'],s=10,show=False,frameon=False,legend_loc='on data',ncols=2,legend_fontsize=14,legend_fontoutline=4)\n"
   ]
  },
  {
   "cell_type": "code",
   "execution_count": null,
   "id": "d8ef5c78-34d1-48e7-9a6a-443b75bb3a38",
   "metadata": {},
   "outputs": [],
   "source": [
    "plt.rcParams['figure.figsize'] = (6, 6)\n",
    "sc.pl.umap(adata, color=['TOP2A','CD14','MPO'],s=10,show=False,frameon=False,legend_loc='on data',ncols=2,legend_fontsize=14,legend_fontoutline=4)\n"
   ]
  },
  {
   "cell_type": "code",
   "execution_count": null,
   "id": "0af031f3-467d-4c95-b382-74a887224fc6",
   "metadata": {},
   "outputs": [],
   "source": [
    "adata.write_h5ad('STAG_AML_final.h5ad',compression='gzip')"
   ]
  }
 ],
 "metadata": {
  "kernelspec": {
   "display_name": "Python 3 (ipykernel)",
   "language": "python",
   "name": "python3"
  },
  "language_info": {
   "codemirror_mode": {
    "name": "ipython",
    "version": 3
   },
   "file_extension": ".py",
   "mimetype": "text/x-python",
   "name": "python",
   "nbconvert_exporter": "python",
   "pygments_lexer": "ipython3",
   "version": "3.7.10"
  }
 },
 "nbformat": 4,
 "nbformat_minor": 5
}
